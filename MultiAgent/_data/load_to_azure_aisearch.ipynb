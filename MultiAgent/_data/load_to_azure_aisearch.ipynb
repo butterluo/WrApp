{
 "cells": [
  {
   "cell_type": "markdown",
   "metadata": {},
   "source": [
    "# LangChain data chunking example\n",
    "..."
   ]
  },
  {
   "cell_type": "markdown",
   "metadata": {},
   "source": [
    "## Load File"
   ]
  },
  {
   "cell_type": "code",
   "execution_count": 17,
   "metadata": {},
   "outputs": [
    {
     "name": "stdout",
     "output_type": "stream",
     "text": [
      "[Document(metadata={'source': 'sales_dscnt_strategy.md'}, page_content='# iPhone的折扣策略:\\n\\n购买任何iPhone总价超200, 打九折(10% off).\\niPhone 7 打八折.\\n\\n# Apple pro vision的折扣策略\\n\\n无折扣优惠\\n\\n# Vivo的折扣策略\\n\\n无折扣优惠\\n\\n# Samsung的折扣策略:\\n\\n购买 Samsung Galaxy Z Flip 手机打九折(10% off)\\n\\n# Nokida的折扣策略:\\n\\n无折扣优惠\\n\\n# 不分品牌的折扣策略:\\n\\n购买任何手机总价超400, 在原有折扣的基础上再打九折.')]\n"
     ]
    }
   ],
   "source": [
    "from langchain_community.document_loaders import UnstructuredMarkdownLoader\n",
    "from langchain.document_loaders import TextLoader\n",
    "import os\n",
    "\n",
    "# loader = UnstructuredMarkdownLoader(\"sales_dscnt_strategy.md\", mode=\"single\",)\n",
    "file_name = \"sales_dscnt_strategy.md\"\n",
    "loader = TextLoader(file_name)\n",
    "docs = loader.load()\n",
    "print(docs)"
   ]
  },
  {
   "cell_type": "markdown",
   "metadata": {},
   "source": [
    "## Chunk Using TextSpliter"
   ]
  },
  {
   "cell_type": "code",
   "execution_count": 18,
   "metadata": {},
   "outputs": [],
   "source": [
    "import tiktoken\n",
    "# print(tiktoken.encoding_for_model('gpt-4o').name)"
   ]
  },
  {
   "cell_type": "markdown",
   "metadata": {},
   "source": [
    "### RecursiveCharacterTextSplitter"
   ]
  },
  {
   "cell_type": "code",
   "execution_count": 15,
   "metadata": {},
   "outputs": [
    {
     "name": "stdout",
     "output_type": "stream",
     "text": [
      "iPhone的折扣策略:\n",
      "----------------------------------------------------------------------------------------------------\n",
      "购买任何iPhone总价超200, 打九折(10% off). iPhone\n",
      "----------------------------------------------------------------------------------------------------\n",
      "off). iPhone 7 打八折.\n",
      "----------------------------------------------------------------------------------------------------\n",
      "Apple pro vision的折扣策略\n",
      "\n",
      "无折扣优惠\n",
      "\n",
      "Vivo的折扣策略\n",
      "----------------------------------------------------------------------------------------------------\n",
      "无折扣优惠\n",
      "\n",
      "Samsung的折扣策略:\n",
      "----------------------------------------------------------------------------------------------------\n",
      "购买 Samsung Galaxy Z Flip 手机打九折(10% off)\n",
      "----------------------------------------------------------------------------------------------------\n",
      "Nokida的折扣策略:\n",
      "\n",
      "无折扣优惠\n",
      "----------------------------------------------------------------------------------------------------\n",
      "无折扣优惠\n",
      "\n",
      "不分品牌的折扣策略:\n",
      "----------------------------------------------------------------------------------------------------\n",
      "购买任何手机总价超400,\n",
      "----------------------------------------------------------------------------------------------------\n",
      "在原有折扣的基础上再打九折.\n",
      "----------------------------------------------------------------------------------------------------\n"
     ]
    }
   ],
   "source": [
    "from langchain.text_splitter import RecursiveCharacterTextSplitter\n",
    "\n",
    "# from_tiktoken_encoder enables use to split on tokens rather than characters\n",
    "recursive_text_splitter = RecursiveCharacterTextSplitter.from_tiktoken_encoder(\n",
    "   encoding_name=tiktoken.encoding_for_model('gpt-4o').name,\n",
    "   chunk_size=20, \n",
    "   chunk_overlap=6\n",
    ")\n",
    "\n",
    "recursive_text_splitter_chunks = recursive_text_splitter.split_documents(docs)\n",
    "\n",
    "for d in recursive_text_splitter_chunks:\n",
    "  print(d.page_content)\n",
    "  print(\"----------\"*10)"
   ]
  },
  {
   "cell_type": "markdown",
   "metadata": {},
   "source": [
    "### SemanticChunker"
   ]
  },
  {
   "cell_type": "code",
   "execution_count": 27,
   "metadata": {},
   "outputs": [
    {
     "name": "stdout",
     "output_type": "stream",
     "text": [
      "# iPhone的折扣策略:\n",
      "\n",
      "购买任何iPhone总价超200, 打九折(10% off).\n",
      "----------------------------------------------------------------------------------------------------\n",
      "iPhone 7 打八折. # Apple pro vision的折扣策略\n",
      "\n",
      "无折扣优惠\n",
      "\n",
      "# Vivo的折扣策略\n",
      "\n",
      "无折扣优惠\n",
      "\n",
      "# Samsung的折扣策略:\n",
      "\n",
      "购买 Samsung Galaxy Z Flip 手机打九折(10% off)\n",
      "\n",
      "# Nokida的折扣策略:\n",
      "\n",
      "无折扣优惠\n",
      "\n",
      "# 不分品牌的折扣策略:\n",
      "\n",
      "购买任何手机总价超400, 在原有折扣的基础上再打九折.\n",
      "----------------------------------------------------------------------------------------------------\n"
     ]
    }
   ],
   "source": [
    "from langchain_experimental.text_splitter import SemanticChunker\n",
    "from langchain_openai.embeddings import AzureOpenAIEmbeddings\n",
    "\n",
    "semantic_text_splitter = SemanticChunker(AzureOpenAIEmbeddings(model='text-embedding-3-small'),\n",
    "                                         breakpoint_threshold_type=\"percentile\",\n",
    "                                         breakpoint_threshold_amount=95)\n",
    "semantic_splitter_chunks = semantic_text_splitter.split_documents(docs)\n",
    "\n",
    "\n",
    "for d in semantic_splitter_chunks:\n",
    "  print(d.page_content)\n",
    "  print(\"----------\"*10)"
   ]
  },
  {
   "cell_type": "markdown",
   "metadata": {},
   "source": [
    "### MarkdownHeaderTextSplitter"
   ]
  },
  {
   "cell_type": "code",
   "execution_count": 51,
   "metadata": {},
   "outputs": [
    {
     "name": "stdout",
     "output_type": "stream",
     "text": [
      "iPhone的折扣策略:\n",
      "购买任何iPhone总价超200, 打九折(10% off).\n",
      "iPhone 7 打八折.\n",
      "----------------------------------------------------------------------------------------------------\n",
      "Apple pro vision的折扣策略\n",
      "无折扣优惠\n",
      "----------------------------------------------------------------------------------------------------\n",
      "Vivo的折扣策略\n",
      "无折扣优惠\n",
      "----------------------------------------------------------------------------------------------------\n",
      "Samsung的折扣策略:\n",
      "购买 Samsung Galaxy Z Flip 手机打九折(10% off)\n",
      "----------------------------------------------------------------------------------------------------\n",
      "Nokida的折扣策略:\n",
      "无折扣优惠\n",
      "----------------------------------------------------------------------------------------------------\n",
      "不分品牌的折扣策略:\n",
      "购买任何手机总价超400, 在原有折扣的基础上再打九折.\n",
      "----------------------------------------------------------------------------------------------------\n"
     ]
    }
   ],
   "source": [
    "from langchain.text_splitter import MarkdownHeaderTextSplitter\n",
    "\n",
    "mdhead_text_splitter = MarkdownHeaderTextSplitter(headers_to_split_on=[(\"#\", \"Header 1\")])\n",
    "mdhead_splitter_chunks = mdhead_text_splitter.split_text(docs[0].page_content) #@# MarkdownHeaderTextSplitter has no split_documents()\n",
    "\n",
    "\n",
    "for d in mdhead_splitter_chunks:\n",
    "  print(d.metadata['Header 1'])\n",
    "  print(d.page_content)\n",
    "  print(\"----------\"*10)"
   ]
  },
  {
   "cell_type": "markdown",
   "metadata": {},
   "source": [
    "### MarkdownTextSplitter"
   ]
  },
  {
   "cell_type": "code",
   "execution_count": 50,
   "metadata": {},
   "outputs": [
    {
     "name": "stdout",
     "output_type": "stream",
     "text": [
      "# iPhone的折扣策略:\n",
      "----------------------------------------------------------------------------------------------------\n",
      "\n",
      "\n",
      "----------------------------------------------------------------------------------------------------\n",
      "\n",
      "购买任何iPhone总价超200, 打九折(10% off).\n",
      "----------------------------------------------------------------------------------------------------\n",
      "\n",
      "iPhone 7 打八折.\n",
      "----------------------------------------------------------------------------------------------------\n",
      "\n",
      "\n",
      "----------------------------------------------------------------------------------------------------\n",
      "\n",
      "# Apple pro vision的折扣策略\n",
      "----------------------------------------------------------------------------------------------------\n",
      "\n",
      "\n",
      "----------------------------------------------------------------------------------------------------\n",
      "\n",
      "无折扣优惠\n",
      "----------------------------------------------------------------------------------------------------\n",
      "\n",
      "\n",
      "----------------------------------------------------------------------------------------------------\n",
      "\n",
      "# Vivo的折扣策略\n",
      "----------------------------------------------------------------------------------------------------\n",
      "\n",
      "\n",
      "----------------------------------------------------------------------------------------------------\n",
      "\n",
      "无折扣优惠\n",
      "----------------------------------------------------------------------------------------------------\n",
      "\n",
      "\n",
      "----------------------------------------------------------------------------------------------------\n",
      "\n",
      "# Samsung的折扣策略:\n",
      "----------------------------------------------------------------------------------------------------\n",
      "\n",
      "\n",
      "----------------------------------------------------------------------------------------------------\n",
      "\n",
      "购买 Samsung Galaxy Z Flip 手机打九折(10% off)\n",
      "----------------------------------------------------------------------------------------------------\n",
      "\n",
      "\n",
      "----------------------------------------------------------------------------------------------------\n",
      "\n",
      "# Nokida的折扣策略:\n",
      "----------------------------------------------------------------------------------------------------\n",
      "\n",
      "\n",
      "----------------------------------------------------------------------------------------------------\n",
      "\n",
      "无折扣优惠\n",
      "----------------------------------------------------------------------------------------------------\n",
      "\n",
      "\n",
      "----------------------------------------------------------------------------------------------------\n",
      "\n",
      "# 不分品牌的折扣策略:\n",
      "----------------------------------------------------------------------------------------------------\n",
      "\n",
      "\n",
      "----------------------------------------------------------------------------------------------------\n",
      "\n",
      "购买任何手机总价超400, 在原有折扣的基础上再打九折.\n",
      "----------------------------------------------------------------------------------------------------\n"
     ]
    }
   ],
   "source": [
    "from langchain.text_splitter import MarkdownTextSplitter\n",
    "from langchain.text_splitter import RecursiveCharacterTextSplitter\n",
    "from langchain_text_splitters.base import Language\n",
    "\n",
    "separators = MarkdownTextSplitter.get_separators_for_language(Language.MARKDOWN)\n",
    "separators = separators[:-2]\n",
    "mdtxt_text_splitter = RecursiveCharacterTextSplitter(separators=separators, chunk_size=0, chunk_overlap=0)\n",
    "# mdtxt_text_splitter = MarkdownTextSplitter(chunk_size=0, chunk_overlap=0)\n",
    "mdtxt_splitter_chunks = mdtxt_text_splitter.split_documents(docs)\n",
    "\n",
    "\n",
    "for d in mdtxt_splitter_chunks:\n",
    "  print(d.page_content)\n",
    "  print(\"----------\"*10)\n",
    "\n",
    "# txtLs = mdtxt_text_splitter.split_text(docs[0].page_content)\n",
    "\n",
    "# for t in txtLs:\n",
    "#   print(t)\n",
    "#   print(\"----------\"*10)\n"
   ]
  },
  {
   "cell_type": "markdown",
   "metadata": {},
   "source": [
    "# Upload to Azure AI Search"
   ]
  },
  {
   "cell_type": "markdown",
   "metadata": {},
   "source": [
    "## Load .env file (Copy .env-sample to .env and update accordingly)"
   ]
  },
  {
   "cell_type": "code",
   "execution_count": 57,
   "metadata": {},
   "outputs": [],
   "source": [
    "from dotenv import load_dotenv\n",
    "from azure.identity import DefaultAzureCredential\n",
    "from azure.core.credentials import AzureKeyCredential\n",
    "import os\n",
    "\n",
    "load_dotenv('../.env') # take environment variables from .env.\n",
    "\n",
    "# Variables not used here do not need to be updated in your .env file\n",
    "search_endpoint = os.environ[\"AZURE_SEARCH_SERVICE_ENDPOINT\"]\n",
    "azure_openai_endpoint = os.environ[\"AZURE_OPENAI_ENDPOINT_4AISEARCH\"]\n",
    "azure_openai_embedding_deployment_id = \"text-embedding-3-small\"#@# REFACTOR 可以用其它的emb或ranker,基于CLS的或非CLS但是多路的\n",
    "recursivetextsplitter_searchindex = 'sale_strategy_idx_tst2'  #os.environ[\"AZURE_SEARCH_LANGCHAIN_RECURSIVETEXTSPLITTER_INDEX\"]\n",
    "\n",
    "search_credential = AzureKeyCredential(os.environ[\"AZURE_SEARCH_ADMIN_KEY\"]) if len(os.environ[\"AZURE_SEARCH_ADMIN_KEY\"]) > 0 else DefaultAzureCredential()\n",
    "azure_openai_key = os.environ[\"AZURE_OPENAI_API_KEY_4AISEARCH\"] if len(os.environ[\"AZURE_OPENAI_API_KEY_4AISEARCH\"]) > 0 else None"
   ]
  },
  {
   "cell_type": "markdown",
   "metadata": {},
   "source": [
    "## Setup Clinet"
   ]
  },
  {
   "cell_type": "code",
   "execution_count": 35,
   "metadata": {},
   "outputs": [],
   "source": [
    "from openai import AzureOpenAI\n",
    "from azure.identity import get_bearer_token_provider\n",
    "\n",
    "azure_openai_client = None\n",
    "# if azure_openai_key:\n",
    "azure_openai_client = AzureOpenAI(\n",
    "    api_key=azure_openai_key, \n",
    "    api_version=\"2023-05-15\",\n",
    "    azure_deployment=azure_openai_embedding_deployment_id,\n",
    "    azure_endpoint=azure_openai_endpoint)\n",
    "# else:\n",
    "#     azure_openai_client = AzureOpenAI(\n",
    "#         azure_ad_token_provider=get_bearer_token_provider(DefaultAzureCredential(), \"https://cognitiveservices.azure.com/.default\"),\n",
    "#         api_version=\"2023-05-15\",\n",
    "#         azure_deployment=azure_openai_embedding_deployment_id,\n",
    "#         azure_endpoint=azure_openai_endpoint)"
   ]
  },
  {
   "cell_type": "markdown",
   "metadata": {},
   "source": [
    "## Create Index"
   ]
  },
  {
   "cell_type": "code",
   "execution_count": 58,
   "metadata": {},
   "outputs": [
    {
     "name": "stdout",
     "output_type": "stream",
     "text": [
      "Created recursive text splitter index\n"
     ]
    }
   ],
   "source": [
    "from azure.search.documents.indexes import SearchIndexClient\n",
    "\n",
    "from azure.search.documents.indexes.models import (\n",
    "    SearchIndex,\n",
    "    SearchIndexer,\n",
    "    SearchIndexerDataSourceConnection,\n",
    "    SearchIndexerDataContainer,\n",
    "    SearchField,\n",
    "    SearchFieldDataType,\n",
    "    VectorSearch,\n",
    "    VectorSearchProfile,\n",
    "    HnswAlgorithmConfiguration,\n",
    "    AzureOpenAIEmbeddingSkill,\n",
    "    SplitSkill,\n",
    "    SemanticConfiguration,\n",
    "    SemanticPrioritizedFields,\n",
    "    SemanticField,\n",
    "    SemanticSearch,\n",
    ")\n",
    "# Required to use the preview SDK\n",
    "from azure.search.documents.indexes._generated.models import (\n",
    "    SearchIndexerSkillset,\n",
    "    AzureOpenAIVectorizer,\n",
    "    AzureOpenAIParameters,\n",
    "    SearchIndexerIndexProjections,\n",
    "    SearchIndexerIndexProjectionSelector,\n",
    "    SearchIndexerIndexProjectionsParameters,\n",
    "    InputFieldMappingEntry,\n",
    "    OutputFieldMappingEntry\n",
    ")\n",
    "\n",
    "def create_search_index(index_name, azure_openai_endpoint, azure_openai_embedding_deployment_id, azure_openai_key=None):\n",
    "    return SearchIndex(\n",
    "        name=index_name,\n",
    "        fields=[\n",
    "            SearchField(\n",
    "                name=\"chunk_id\",\n",
    "                type=SearchFieldDataType.String,\n",
    "                key=True,\n",
    "                hidden=False,\n",
    "                filterable=True,\n",
    "                sortable=True,\n",
    "                facetable=False,\n",
    "                searchable=True,\n",
    "                analyzer_name=\"keyword\"\n",
    "            ),\n",
    "            SearchField(\n",
    "                name=\"parent_id\",\n",
    "                type=SearchFieldDataType.String,\n",
    "                hidden=False,\n",
    "                filterable=True,\n",
    "                sortable=False,\n",
    "                facetable=False,\n",
    "                searchable=True\n",
    "            ),\n",
    "            SearchField(\n",
    "                name=\"chunk\",\n",
    "                type=SearchFieldDataType.String,\n",
    "                hidden=False,\n",
    "                filterable=False,\n",
    "                sortable=False,\n",
    "                facetable=False,\n",
    "                searchable=True\n",
    "            ),\n",
    "            SearchField(\n",
    "                name=\"title\",\n",
    "                type=SearchFieldDataType.String,\n",
    "                hidden=False,\n",
    "                filterable=False,\n",
    "                sortable=False,\n",
    "                facetable=False,\n",
    "                searchable=True\n",
    "            ),\n",
    "            SearchField(\n",
    "                name=\"titleChunkVector\",\n",
    "                type=SearchFieldDataType.Collection(SearchFieldDataType.Single),\n",
    "                hidden=False,\n",
    "                filterable=False,\n",
    "                sortable=False,\n",
    "                facetable=False,\n",
    "                searchable=True,\n",
    "                vector_search_dimensions=1536,\n",
    "                vector_search_profile_name=\"vecprofile\"\n",
    "            )\n",
    "        ],\n",
    "        vector_search=VectorSearch(\n",
    "            profiles=[\n",
    "                VectorSearchProfile(\n",
    "                    name=\"vecprofile\",\n",
    "                    algorithm_configuration_name=\"hnsw-algorithm\",\n",
    "                    vectorizer=\"azure-openai-vectorizer\"\n",
    "                )\n",
    "            ],\n",
    "            algorithms=[\n",
    "                HnswAlgorithmConfiguration(name=\"hnsw-algorithm\")\n",
    "            ],\n",
    "            vectorizers=[\n",
    "                AzureOpenAIVectorizer(\n",
    "                        name=\"azure-openai-vectorizer\",\n",
    "                        azure_open_ai_parameters=AzureOpenAIParameters(\n",
    "                            resource_uri=azure_openai_endpoint,\n",
    "                            deployment_id=azure_openai_embedding_deployment_id,\n",
    "                            model_name=azure_openai_embedding_deployment_id,\n",
    "                            api_key=azure_openai_key # Optional if using RBAC authentication\n",
    "                        )\n",
    "                    )\n",
    "            ]\n",
    "        ),\n",
    "        semantic_search=SemanticSearch(configurations=[\n",
    "            SemanticConfiguration(\n",
    "                name=\"my-semantic-config\",\n",
    "                prioritized_fields=SemanticPrioritizedFields(\n",
    "                    # title_field=SemanticField(field_name=\"title\"),\n",
    "                    # keywords_fields=[SemanticField(field_name=\"category\")],\n",
    "                    content_fields=[SemanticField(field_name=\"chunk\")]\n",
    "                )\n",
    "            )\n",
    "        ])   \n",
    "    )\n",
    "\n",
    "\n",
    "search_index_client = SearchIndexClient(endpoint=search_endpoint, credential=search_credential)\n",
    "rts_searchindex = create_search_index(\n",
    "    recursivetextsplitter_searchindex,\n",
    "    azure_openai_endpoint,\n",
    "    azure_openai_embedding_deployment_id,\n",
    "    azure_openai_key\n",
    ")\n",
    "search_index_client.create_or_update_index(rts_searchindex)\n",
    "\n",
    "print(\"Created recursive text splitter index\")\n"
   ]
  },
  {
   "cell_type": "markdown",
   "metadata": {},
   "source": [
    "## Embed Chunks"
   ]
  },
  {
   "cell_type": "code",
   "execution_count": 41,
   "metadata": {},
   "outputs": [
    {
     "data": {
      "text/plain": [
       "['iPhone的折扣策略: \\n 购买任何iPhone总价超200, 打九折(10% off).\\niPhone 7 打八折.',\n",
       " 'Apple pro vision的折扣策略 \\n 无折扣优惠',\n",
       " 'Vivo的折扣策略 \\n 无折扣优惠',\n",
       " 'Samsung的折扣策略: \\n 购买 Samsung Galaxy Z Flip 手机打九折(10% off)',\n",
       " 'Nokida的折扣策略: \\n 无折扣优惠',\n",
       " '不分品牌的折扣策略: \\n 购买任何手机总价超400, 在原有折扣的基础上再打九折.']"
      ]
     },
     "execution_count": 41,
     "metadata": {},
     "output_type": "execute_result"
    }
   ],
   "source": [
    "chunk_content = [f\"{chunk.metadata['Header 1']} \\n {chunk.page_content}\" for chunk in mdhead_splitter_chunks]\n",
    "chunk_content"
   ]
  },
  {
   "cell_type": "code",
   "execution_count": 52,
   "metadata": {},
   "outputs": [],
   "source": [
    "\n",
    "mdhead_splitter_embeddings = azure_openai_client.embeddings.create(input=chunk_content, model=azure_openai_embedding_deployment_id)\n",
    "mdhead_splitter_embeddings = [result.embedding for result in mdhead_splitter_embeddings.data]\n"
   ]
  },
  {
   "cell_type": "markdown",
   "metadata": {},
   "source": [
    "## Upload chunks to search index"
   ]
  },
  {
   "cell_type": "code",
   "execution_count": 59,
   "metadata": {},
   "outputs": [
    {
     "name": "stdout",
     "output_type": "stream",
     "text": [
      "Uploaded chunks and embeddings for recursive text splitter\n"
     ]
    }
   ],
   "source": [
    "recursive_search_client = search_index_client.get_search_client(recursivetextsplitter_searchindex)\n",
    "\n",
    "\n",
    "docs2idx = [\n",
    "    {\n",
    "        \"parent_id\": file_name,\n",
    "        \"chunk_id\": f\"sales_dscnt_strategy_md_{i}\",\n",
    "        \"chunk\": chunk.page_content,\n",
    "        \"title\": chunk.metadata['Header 1'],\n",
    "        \"titleChunkVector\": mdhead_splitter_embeddings[i]\n",
    "    }\n",
    "    for i, chunk in enumerate(mdhead_splitter_chunks)\n",
    "]\n",
    "\n",
    "recursive_search_client.upload_documents(docs2idx)\n",
    "\n",
    "print(\"Uploaded chunks and embeddings for recursive text splitter\")"
   ]
  },
  {
   "cell_type": "markdown",
   "metadata": {},
   "source": [
    "# Search"
   ]
  },
  {
   "cell_type": "markdown",
   "metadata": {},
   "source": [
    "## Hybrid Search"
   ]
  },
  {
   "cell_type": "code",
   "execution_count": 71,
   "metadata": {},
   "outputs": [
    {
     "name": "stdout",
     "output_type": "stream",
     "text": [
      "Title: 不分品牌的折扣策略:\n",
      "Content: 购买任何手机总价超400, 在原有折扣的基础上再打九折.\n",
      "Score: 0.046666670590639114 \n",
      "\n",
      "Title: Samsung的折扣策略:\n",
      "Content: 购买 Samsung Galaxy Z Flip 手机打九折(10% off)\n",
      "Score: 0.04516128823161125 \n",
      "\n",
      "Title: iPhone的折扣策略:\n",
      "Content: 购买任何iPhone总价超200, 打九折(10% off).\n",
      "iPhone 7 打八折.\n",
      "Score: 0.0448928102850914 \n",
      "\n"
     ]
    }
   ],
   "source": [
    "# Hybrid Search\n",
    "\n",
    "from azure.search.documents.models import VectorizableTextQuery\n",
    "from azure.search.documents.models import VectorizedQuery\n",
    "\n",
    "query = \"买两台手机有什么优惠么?\"  \n",
    "\n",
    "embedding = azure_openai_client.embeddings.create(input=query, model=azure_openai_embedding_deployment_id).data[0].embedding \n",
    "                                                  # dimensions=azure_openai_embedding_dimensions).data[0].embedding\n",
    "\n",
    "aoai_vector_query = VectorizedQuery(vector=embedding, k_nearest_neighbors=3, fields=\"titleChunkVector\")\n",
    "  \n",
    "vector_query = VectorizableTextQuery(text=query, k_nearest_neighbors=3, fields=\"titleChunkVector\", weight=0.8)\n",
    "\n",
    "results = recursive_search_client.search(  \n",
    "    search_text=query,  \n",
    "    vector_queries=[vector_query, aoai_vector_query],\n",
    "    select=[\"title\", \"chunk\"],\n",
    "    top=3\n",
    ")\n",
    "  \n",
    "for result in results:  \n",
    "    print(f\"Title: {result['title']}\")  \n",
    "    print(f\"Content: {result['chunk']}\")  \n",
    "    print(f\"Score: {result['@search.score']} \\n\")  "
   ]
  },
  {
   "cell_type": "markdown",
   "metadata": {},
   "source": [
    "## Semantic Hybrid Search"
   ]
  },
  {
   "cell_type": "code",
   "execution_count": 70,
   "metadata": {},
   "outputs": [
    {
     "name": "stdout",
     "output_type": "stream",
     "text": [
      "Title: Samsung的折扣策略:\n",
      "Content: 购买 Samsung Galaxy Z Flip 手机打九折(10% off)\n",
      "Score: 0.04516128823161125\n",
      "Reranker Score: 2.231081485748291 \n",
      "\n",
      "Title: 不分品牌的折扣策略:\n",
      "Content: 购买任何手机总价超400, 在原有折扣的基础上再打九折.\n",
      "Score: 0.046666670590639114\n",
      "Reranker Score: 2.2171988487243652 \n",
      "\n",
      "Title: iPhone的折扣策略:\n",
      "Content: 购买任何iPhone总价超200, 打九折(10% off).\n",
      "iPhone 7 打八折.\n",
      "Score: 0.0448928102850914\n",
      "Reranker Score: 2.123516082763672 \n",
      "\n"
     ]
    }
   ],
   "source": [
    "# Hybrid Search\n",
    "from azure.search.documents.models import QueryType, QueryCaptionType, QueryAnswerType\n",
    "\n",
    "query = \"买两台手机有什么优惠么?\"  \n",
    "\n",
    "embedding = azure_openai_client.embeddings.create(input=query, model=azure_openai_embedding_deployment_id).data[0].embedding \n",
    "                                                  # dimensions=azure_openai_embedding_dimensions).data[0].embedding\n",
    "\n",
    "aoai_vector_query = VectorizedQuery(vector=embedding, k_nearest_neighbors=3, fields=\"titleChunkVector\")\n",
    "  \n",
    "vector_query = VectorizableTextQuery(text=query, k_nearest_neighbors=3, fields=\"titleChunkVector\", weight=0.8)\n",
    "\n",
    "results = recursive_search_client.search(  \n",
    "    search_text=query,  \n",
    "    vector_queries=[vector_query, aoai_vector_query],\n",
    "    select=[\"title\", \"chunk\"],\n",
    "    query_type=QueryType.SEMANTIC, semantic_configuration_name='my-semantic-config', \n",
    "    # query_caption=QueryCaptionType.EXTRACTIVE, query_answer=QueryAnswerType.EXTRACTIVE,\n",
    "    top=3\n",
    ")\n",
    "  \n",
    "for result in results:  \n",
    "    print(f\"Title: {result['title']}\")  \n",
    "    print(f\"Content: {result['chunk']}\")  \n",
    "    print(f\"Score: {result['@search.score']}\")  \n",
    "    print(f\"Reranker Score: {result['@search.reranker_score']} \\n\")"
   ]
  }
 ],
 "metadata": {
  "kernelspec": {
   "display_name": "base",
   "language": "python",
   "name": "python3"
  },
  "language_info": {
   "codemirror_mode": {
    "name": "ipython",
    "version": 3
   },
   "file_extension": ".py",
   "mimetype": "text/x-python",
   "name": "python",
   "nbconvert_exporter": "python",
   "pygments_lexer": "ipython3",
   "version": "3.12.4"
  }
 },
 "nbformat": 4,
 "nbformat_minor": 2
}
